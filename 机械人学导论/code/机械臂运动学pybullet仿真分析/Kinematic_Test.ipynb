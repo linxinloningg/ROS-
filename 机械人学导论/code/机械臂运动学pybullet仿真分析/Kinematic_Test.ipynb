{
 "cells": [
  {
   "cell_type": "code",
   "execution_count": 1,
   "id": "2f45283e",
   "metadata": {},
   "outputs": [],
   "source": [
    "from kinematic import UR5Kinematic, DobotKinematic, Arm4DoFKinematic, Posture\n",
    "from numpy import radians, degrees, set_printoptions"
   ]
  },
  {
   "cell_type": "code",
   "execution_count": 2,
   "id": "7904e741",
   "metadata": {},
   "outputs": [],
   "source": [
    "# 设置Numpy打印精度\n",
    "set_printoptions(precision=3, suppress=True)"
   ]
  },
  {
   "cell_type": "code",
   "execution_count": 3,
   "id": "28c705b8",
   "metadata": {},
   "outputs": [],
   "source": [
    "UR5Kinematic = UR5Kinematic()"
   ]
  },
  {
   "cell_type": "code",
   "execution_count": 4,
   "id": "86b9275d",
   "metadata": {
    "scrolled": true
   },
   "outputs": [
    {
     "name": "stdout",
     "output_type": "stream",
     "text": [
      "Pose x=817.000, y=234.000, z=63.000, roll=-90.000, pitch=-0.000, yaw=0.000]\n"
     ]
    }
   ],
   "source": [
    "# 弧度制\n",
    "joint_angle = [0 for _ in range(6)]\n",
    "pose = UR5Kinematic.forward_kinematic(joint_angle)\n",
    "print(pose)"
   ]
  },
  {
   "cell_type": "code",
   "execution_count": 5,
   "id": "c8df81f6",
   "metadata": {
    "scrolled": false
   },
   "outputs": [
    {
     "name": "stdout",
     "output_type": "stream",
     "text": [
      "Pose x=817.000, y=234.000, z=63.000, roll=-90.000, pitch=-0.000, yaw=0.000]\n"
     ]
    }
   ],
   "source": [
    "target_pose = Posture()\n",
    "target_pose.set_position(817, 234, 63)\n",
    "target_pose.set_euler_angle(radians(-90.000), 0, 0)\n",
    "print(pose)"
   ]
  },
  {
   "cell_type": "code",
   "execution_count": 6,
   "id": "8181c4a5",
   "metadata": {
    "scrolled": true
   },
   "outputs": [],
   "source": [
    "candi_joint_angle_list = UR5Kinematic.inverse_kinematic(target_pose)"
   ]
  },
  {
   "cell_type": "code",
   "execution_count": 7,
   "id": "7db08442",
   "metadata": {},
   "outputs": [
    {
     "name": "stdout",
     "output_type": "stream",
     "text": [
      "candi_joint_angle_list len 3\n",
      "Joint Angle: -161.4,-180.0,-0.0,-180.0,161.4,0.0\n",
      "Pose x=817.000, y=234.000, z=63.000, roll=-90.000, pitch=0.000, yaw=-0.000]\n",
      "Joint Angle: -161.4,180.0,0.0,180.0,161.4,0.0\n",
      "Pose x=817.000, y=234.000, z=63.000, roll=-90.000, pitch=0.000, yaw=-0.000]\n",
      "Joint Angle: 0.0,0.0,0.0,-0.0,0.0,0.0\n",
      "Pose x=817.000, y=234.000, z=63.000, roll=-90.000, pitch=-0.000, yaw=0.000]\n"
     ]
    }
   ],
   "source": [
    "print(f\"candi_joint_angle_list len {len(candi_joint_angle_list)}\")\n",
    "for joint_angle in candi_joint_angle_list:\n",
    "    pose = UR5Kinematic.forward_kinematic(joint_angle)\n",
    "    print(\"Joint Angle: \" + \",\".join([\"{:.1f}\".format(degrees(angle)) for angle in  joint_angle]))\n",
    "    print(pose)"
   ]
  },
  {
   "cell_type": "code",
   "execution_count": 8,
   "id": "b76e71d9",
   "metadata": {
    "scrolled": true
   },
   "outputs": [],
   "source": [
    "candi_joint_angle_list = UR5Kinematic.inverse_kinematic_constraint(target_pose)"
   ]
  },
  {
   "cell_type": "code",
   "execution_count": 9,
   "id": "db7ecc08",
   "metadata": {},
   "outputs": [
    {
     "name": "stdout",
     "output_type": "stream",
     "text": [
      "candi_joint_angle_list len 1\n",
      "Joint Angle: 0.0,0.0,0.0,-0.0,0.0,0.0\n",
      "Pose x=817.000, y=234.000, z=63.000, roll=-90.000, pitch=-0.000, yaw=0.000]\n"
     ]
    }
   ],
   "source": [
    "print(f\"candi_joint_angle_list len {len(candi_joint_angle_list)}\")\n",
    "for joint_angle in candi_joint_angle_list:\n",
    "    pose = UR5Kinematic.forward_kinematic(joint_angle)\n",
    "    print(\"Joint Angle: \" + \",\".join([\"{:.1f}\".format(degrees(angle)) for angle in  joint_angle]))\n",
    "    print(pose)"
   ]
  },
  {
   "cell_type": "code",
   "execution_count": 10,
   "id": "459b74fc",
   "metadata": {},
   "outputs": [
    {
     "name": "stdout",
     "output_type": "stream",
     "text": [
      "Pose x=140.000, y=0.000, z=0.000, roll=-90.000, pitch=-0.000, yaw=0.000]\n"
     ]
    }
   ],
   "source": [
    "joint_angle = [0 for _ in range(3)]\n",
    "pose = DobotKinematic.forward_kinematic(joint_angle)\n",
    "print(pose)"
   ]
  },
  {
   "cell_type": "code",
   "execution_count": 11,
   "id": "83b14a1d",
   "metadata": {},
   "outputs": [
    {
     "name": "stdout",
     "output_type": "stream",
     "text": [
      "Pose x=292.000, y=0.000, z=0.000, roll=0.000, pitch=-90.000, yaw=-0.000]\n"
     ]
    }
   ],
   "source": [
    "joint_angle = [0 for _ in range(4)]\n",
    "pose = Arm4DoFKinematic.forward_kinematic(joint_angle)\n",
    "print(pose)"
   ]
  }
 ],
 "metadata": {
  "kernelspec": {
   "display_name": "pybullet_robot",
   "language": "python",
   "name": "pybullet_robot"
  },
  "language_info": {
   "codemirror_mode": {
    "name": "ipython",
    "version": 3
   },
   "file_extension": ".py",
   "mimetype": "text/x-python",
   "name": "python",
   "nbconvert_exporter": "python",
   "pygments_lexer": "ipython3",
   "version": "3.7.15"
  }
 },
 "nbformat": 4,
 "nbformat_minor": 5
}
