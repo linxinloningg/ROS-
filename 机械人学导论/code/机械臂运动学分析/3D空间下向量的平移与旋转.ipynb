{
 "cells": [
  {
   "cell_type": "code",
   "execution_count": 1,
   "id": "1510c455",
   "metadata": {},
   "outputs": [],
   "source": [
    "from numpy import set_printoptions, float32, eye, array, sqrt, copy, degrees\n",
    "from math import sin, cos, atan2, pi\n",
    "\n",
    "# 设置Numpy打印精度\n",
    "set_printoptions(precision=3, suppress=True)"
   ]
  },
  {
   "cell_type": "code",
   "execution_count": 2,
   "id": "efbfd769",
   "metadata": {},
   "outputs": [],
   "source": [
    "\"\"\"\n",
    "将平移过程分别拆解成在X方向上平移，在Y方向上平移，在Z方向上平移\n",
    "\"\"\"\n",
    "def translation_x(dx):\n",
    "    \"\"\"沿X轴平移\"\"\"\n",
    "    return float32([\n",
    "        [1, 0, 0, dx],\n",
    "        [0, 1, 0, 0],\n",
    "        [0, 0, 1, 0],\n",
    "        [0, 0, 0, 1]])\n",
    "\n",
    "def translation_y(dy):\n",
    "    \"\"\"沿Y轴平移\"\"\"\n",
    "    return float32([\n",
    "        [1, 0, 0, 0],\n",
    "        [0, 1, 0, dy],\n",
    "        [0, 0, 1, 0],\n",
    "        [0, 0, 0, 1]])\n",
    "\n",
    "def translation_z(dz):\n",
    "    \"\"\"沿Z轴平移\"\"\"\n",
    "    return float32([\n",
    "        [1, 0, 0, 0],\n",
    "        [0, 1, 0, 0],\n",
    "        [0, 0, 1, dz],\n",
    "        [0, 0, 0, 1]])"
   ]
  },
  {
   "cell_type": "code",
   "execution_count": 3,
   "id": "8befba13",
   "metadata": {},
   "outputs": [],
   "source": [
    "def rotate_x(gamma):\n",
    "    \"\"\"绕X轴旋转\"\"\"\n",
    "    return array([\n",
    "        [1, 0, 0, 0],\n",
    "        [0, cos(gamma), -sin(gamma), 0],\n",
    "        [0, sin(gamma), cos(gamma), 0],\n",
    "        [0, 0, 0, 1]])"
   ]
  },
  {
   "cell_type": "code",
   "execution_count": 4,
   "id": "88a2300f",
   "metadata": {},
   "outputs": [],
   "source": [
    "def rotate_y(beta):\n",
    "    \"\"\"绕Y轴旋转\"\"\"\n",
    "    return array([\n",
    "        [cos(beta), 0, sin(beta), 0],\n",
    "        [0, 1, 0, 0],\n",
    "        [-sin(beta), 0, cos(beta), 0],\n",
    "        [0, 0, 0, 1]])"
   ]
  },
  {
   "cell_type": "code",
   "execution_count": 5,
   "id": "063320b1",
   "metadata": {},
   "outputs": [],
   "source": [
    "def rotate_z(alpha):\n",
    "    \"\"\"绕Z轴旋转\"\"\"\n",
    "    return array([\n",
    "        [cos(alpha), -sin(alpha), 0, 0],\n",
    "        [sin(alpha), cos(alpha), 0, 0],\n",
    "        [0, 0, 1, 0],\n",
    "        [0, 0, 0, 1]])"
   ]
  },
  {
   "cell_type": "code",
   "execution_count": 6,
   "id": "fc684e28",
   "metadata": {},
   "outputs": [],
   "source": [
    "from math import radians"
   ]
  },
  {
   "cell_type": "code",
   "execution_count": 7,
   "id": "608e28a0",
   "metadata": {},
   "outputs": [],
   "source": [
    "# 定义向量\n",
    "p1 = array([0.5, 0.2, 0.8, 1]).reshape(-1, 1)\n",
    "# 平移向量\n",
    "q = array([0.5, 0, 0.2]).reshape(-1, 1)  # 平移向量\n",
    "# 旋转角度\n",
    "gamma = radians(30.0)  # 绕X轴旋转\n",
    "beta = radians(-45.0)  # 绕Y轴旋转\n",
    "alpha = radians(60.0)  # 绕Z轴旋转"
   ]
  },
  {
   "cell_type": "code",
   "execution_count": 8,
   "id": "7b42038d",
   "metadata": {
    "scrolled": false
   },
   "outputs": [],
   "source": [
    "\"\"\"\n",
    "旋转：向量 * 旋转矩阵\n",
    "平移：向量 * 平移矩阵\n",
    "\"\"\"\n",
    "# 向量绕X轴旋转 -->> 向量绕X轴平移\n",
    "transformation_matrix  = rotate_x(gamma)\n",
    "transformation_matrix = transformation_matrix.dot(translation_x(0.5))"
   ]
  },
  {
   "cell_type": "code",
   "execution_count": 9,
   "id": "1b835570",
   "metadata": {},
   "outputs": [],
   "source": [
    "# 向量绕Y轴旋转 -->> 向量绕Y轴平移\n",
    "transformation_matrix = transformation_matrix.dot(rotate_y(beta))\n",
    "transformation_matrix = transformation_matrix.dot(translation_y(0))"
   ]
  },
  {
   "cell_type": "code",
   "execution_count": 10,
   "id": "4c47a5d8",
   "metadata": {},
   "outputs": [],
   "source": [
    "# 向量绕Z轴旋转 -->> 向量绕Z轴平移\n",
    "transformation_matrix = transformation_matrix.dot(rotate_z(beta))\n",
    "transformation_matrix = transformation_matrix.dot(translation_z(0.2))"
   ]
  },
  {
   "cell_type": "code",
   "execution_count": 11,
   "id": "4aca8243",
   "metadata": {
    "scrolled": true
   },
   "outputs": [
    {
     "name": "stdout",
     "output_type": "stream",
     "text": [
      "[[ 0.5    0.5   -0.707  0.359]\n",
      " [-0.862  0.362 -0.354 -0.071]\n",
      " [ 0.079  0.787  0.612  0.122]\n",
      " [ 0.     0.     0.     1.   ]]\n"
     ]
    }
   ],
   "source": [
    "# 打印变换矩阵\n",
    "print(transformation_matrix)"
   ]
  },
  {
   "cell_type": "code",
   "execution_count": 12,
   "id": "58e4d819",
   "metadata": {
    "scrolled": true
   },
   "outputs": [],
   "source": [
    "# 计算变换后的点\n",
    "p2 = transformation_matrix.dot(p1)"
   ]
  },
  {
   "cell_type": "code",
   "execution_count": 13,
   "id": "5d1646a9",
   "metadata": {
    "scrolled": false
   },
   "outputs": [
    {
     "data": {
      "text/plain": [
       "array([[ 0.143],\n",
       "       [-0.712],\n",
       "       [ 0.809],\n",
       "       [ 1.   ]])"
      ]
     },
     "execution_count": 13,
     "metadata": {},
     "output_type": "execute_result"
    }
   ],
   "source": [
    "p2"
   ]
  }
 ],
 "metadata": {
  "kernelspec": {
   "display_name": "pybullet_robot",
   "language": "python",
   "name": "pybullet_robot"
  },
  "language_info": {
   "codemirror_mode": {
    "name": "ipython",
    "version": 3
   },
   "file_extension": ".py",
   "mimetype": "text/x-python",
   "name": "python",
   "nbconvert_exporter": "python",
   "pygments_lexer": "ipython3",
   "version": "3.7.15"
  }
 },
 "nbformat": 4,
 "nbformat_minor": 5
}
